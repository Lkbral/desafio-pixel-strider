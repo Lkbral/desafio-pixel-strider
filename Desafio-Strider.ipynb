{
 "cells": [
  {
   "cell_type": "markdown",
   "metadata": {},
   "source": [
    "# Desafio dos Pixels Strider\n",
    "\n",
    "1. Contar a quantidade que pontos vermelhos na imagem;\n",
    "2. Encontrar a frase escondida nos pontos;"
   ]
  },
  {
   "cell_type": "code",
   "execution_count": 1,
   "metadata": {},
   "outputs": [],
   "source": [
    "import sys\n",
    "import cv2\n",
    "import numpy as np\n",
    "import binascii\n",
    "from matplotlib import pyplot as plt\n",
    "\n",
    "from __future__ import print_function"
   ]
  },
  {
   "cell_type": "code",
   "execution_count": null,
   "metadata": {},
   "outputs": [],
   "source": [
    "# Imagem padrão utilizada\n",
    "image_strider = \"strider.png\"\n",
    "\n",
    "# Mudança no tamanho das imagens para melhor visualização\n",
    "fig_size = plt.rcParams[\"figure.figsize\"]\n",
    "fig_size[0] = 12\n",
    "fig_size[1] = 8\n",
    "plt.rcParams[\"figure.figsize\"] = fig_size"
   ]
  },
  {
   "cell_type": "markdown",
   "metadata": {},
   "source": [
    "## Desafio 1\n",
    "\n",
    "O desafio 1 consiste em contar os pixels vermelhos espalhados na imagem dada. Para isso foi utilizada a biblioteca OpenCV onde é possível representar a imagem como uma matriz de pixels e aplicar operações utilizando vetores numericos da biblioteca Numpy de forma a filtrar os pixels de um determinado espectro, nesse caso vermelho (0,0,255 BGR)."
   ]
  },
  {
   "cell_type": "code",
   "execution_count": null,
   "metadata": {},
   "outputs": [],
   "source": [
    "def count_red_pixels(image):\n",
    "    \"\"\"\n",
    "    Conta o numero de pixels vermelhos na imagem, sendo considerado vermelho\n",
    "    apenas os pixels dentro do padrão dado (0,0,255 - BGR)\n",
    "    \"\"\"\n",
    "\n",
    "    img = cv2.imread(image)\n",
    "\n",
    "    RED_MIN = np.array([0, 0, 255], np.uint8)\n",
    "    RED_MAX = np.array([0, 0, 255], np.uint8)\n",
    "\n",
    "    result = cv2.inRange(img, RED_MIN, RED_MAX)\n",
    "    red_pixels = cv2.countNonZero(result)\n",
    "\n",
    "    plt.imshow(img)\n",
    "    plt.title('Strider')\n",
    "    plt.show()\n",
    "    \n",
    "    print('O numero de pixels vermelhos é: ' + str(red_pixels))\n",
    "\n",
    "count_red_pixels(image_strider)"
   ]
  },
  {
   "cell_type": "markdown",
   "metadata": {},
   "source": [
    "## Desafio 2\n",
    "\n",
    "Os códigos abaixo representam tentativas de solucionar o desafio 2 até o momento."
   ]
  },
  {
   "cell_type": "markdown",
   "metadata": {},
   "source": [
    "### Heurística 1\n",
    "\n",
    "Considerando o espaço entre os pixels vermelhos como sendo caracteres ascii que juntos formariam a frase secreta."
   ]
  },
  {
   "cell_type": "code",
   "execution_count": null,
   "metadata": {},
   "outputs": [],
   "source": [
    "def distance_between_red_pixels(image):\n",
    "    \"\"\"\n",
    "    Conta a distância entre os pixels vermelhos da imagem horizontalmente\n",
    "    \"\"\"\n",
    "\n",
    "    img = cv2.imread(image)\n",
    "    \n",
    "    distances = []\n",
    "    counter = 0\n",
    "    for rows in img:\n",
    "        for node in rows:\n",
    "            if node[0] == 0 and node[1] == 0 and node[2] == 255:\n",
    "                distances.append(counter)\n",
    "                counter = 0\n",
    "            else:\n",
    "                counter += 1;\n",
    "    distances.append(counter)\n",
    "    return distances\n",
    "\n",
    "distance_between_red_pixels(image_strider)"
   ]
  },
  {
   "cell_type": "markdown",
   "metadata": {},
   "source": [
    "Foram feitas diversas tentativas com esse método, aplicando variadas formas de conversão dos valores encontrados nas distâncias."
   ]
  },
  {
   "cell_type": "code",
   "execution_count": null,
   "metadata": {},
   "outputs": [],
   "source": [
    "def distance_to_char(distances):\n",
    "    \"\"\"\n",
    "    Transforma as distâncias da lista em caracteres\n",
    "    \"\"\"\n",
    "\n",
    "    letters = \"\"\n",
    "    for distance in distances:\n",
    "        letters += chr(distance%256) \n",
    "    print(letters)\n",
    "\n",
    "distance_to_char(distance_between_red_pixels(image_strider))"
   ]
  },
  {
   "cell_type": "code",
   "execution_count": null,
   "metadata": {
    "scrolled": true
   },
   "outputs": [],
   "source": [
    "def distance_to_letters(distances):\n",
    "    \"\"\"\n",
    "    Transforma as distâncias da lista em letras\n",
    "    \"\"\"\n",
    "\n",
    "    letters = \"\"\n",
    "    for distance in distances:\n",
    "        letters += chr(distance%26+65) \n",
    "    print(letters)\n",
    "\n",
    "distance_to_letters(distance_between_red_pixels(image_strider))"
   ]
  },
  {
   "cell_type": "code",
   "execution_count": null,
   "metadata": {},
   "outputs": [],
   "source": [
    "def distance_between_red_pixels_column(image):\n",
    "    \"\"\"\n",
    "    Conta a distância entre os pixels vermelhos da imagem verticalmente\n",
    "    \"\"\"\n",
    "\n",
    "    img = cv2.imread(image)\n",
    "        \n",
    "    distances = []\n",
    "    counter = 0\n",
    "    for col in xrange(0, 664):\n",
    "        for row in xrange(0, 664):\n",
    "            if img[row][col][0] == 0 and img[row][col][1] == 0 and img[row][col][2] == 255:\n",
    "                distances.append(counter)\n",
    "                counter = 0\n",
    "            else:\n",
    "                counter += 1;\n",
    "    distances.append(counter)\n",
    "    return distances\n",
    "\n",
    "distance_between_red_pixels_column(image_strider)"
   ]
  },
  {
   "cell_type": "code",
   "execution_count": null,
   "metadata": {},
   "outputs": [],
   "source": [
    "distance_to_char(distance_between_red_pixels_column(image_strider))"
   ]
  },
  {
   "cell_type": "code",
   "execution_count": null,
   "metadata": {},
   "outputs": [],
   "source": [
    "distance_to_letters(distance_between_red_pixels_column(image_strider))"
   ]
  },
  {
   "cell_type": "markdown",
   "metadata": {},
   "source": [
    "### Heurística 2\n",
    "\n",
    "Considerando a posição dos pixels vermelhos como a informação que contém a frase secreta."
   ]
  },
  {
   "cell_type": "code",
   "execution_count": null,
   "metadata": {},
   "outputs": [],
   "source": [
    "def red_pixels_positions(image):\n",
    "    \"\"\"\n",
    "    identifica as posições (x, y) dos pixels vermelhos\n",
    "    \"\"\"\n",
    "\n",
    "    img = cv2.imread(image)\n",
    "\n",
    "    positions = []\n",
    "    for row in xrange(0, 664):\n",
    "        for col in xrange(0, 664):\n",
    "            if img[row][col][0] == 0 and img[row][col][1] == 0 and img[row][col][2] == 255:\n",
    "                positions.append((row, col))\n",
    "    return positions\n",
    "                \n",
    "red_pixels_positions(image_strider)"
   ]
  },
  {
   "cell_type": "code",
   "execution_count": null,
   "metadata": {},
   "outputs": [],
   "source": [
    "def red_pixel_collision(positions):    \n",
    "    \"\"\"\n",
    "    identifica a quantidade de linhas e colunas com mais de um pixel vermelho, isto é, uma colisão\n",
    "    \"\"\"\n",
    "    \n",
    "    collision = 0\n",
    "    vertical = []\n",
    "    horizontal = []\n",
    "    for node in positions:\n",
    "        vertical.append(node[1])\n",
    "        horizontal.append(node[0])\n",
    "    collision_counter = \"O número de colisões verticais e horizontais são respectivamente: \"\n",
    "    collision_counter += str(len(vertical) - len(set(vertical))) + \", \" + str(len(horizontal) - len(set(horizontal)))\n",
    "\n",
    "    print(collision_counter)\n",
    "\n",
    "red_pixel_collision(red_pixels_positions(image_strider))"
   ]
  },
  {
   "cell_type": "code",
   "execution_count": null,
   "metadata": {},
   "outputs": [],
   "source": [
    "def red_pixels_distance_upper_column(image):\n",
    "    \"\"\"\n",
    "    Altera a imagem para adicionar um traço superior aos pontos vermelhos\n",
    "    \"\"\"\n",
    "\n",
    "    img = cv2.imread(image)\n",
    "        \n",
    "    for col in xrange(0, 664):\n",
    "        for value in xrange(0, 664):\n",
    "            if img[value][col][0] == 0 and img[value][col][1] == 0 and img[value][col][2] == 255:\n",
    "                for value in xrange(0, 664):\n",
    "                    if img[value][col][0] == 0 and img[value][col][1] == 0 and img[value][col][2] == 255:\n",
    "                        break\n",
    "                    else:\n",
    "                        img[value][col] = [255, 0, 0]\n",
    "                break\n",
    "                \n",
    "    plt.imshow(img)\n",
    "    plt.title('Strider')\n",
    "    plt.show()\n",
    "                \n",
    "red_pixels_distance_upper_column(image_strider)"
   ]
  },
  {
   "cell_type": "code",
   "execution_count": null,
   "metadata": {},
   "outputs": [],
   "source": [
    "def red_pixels_distance_lower_column(image):\n",
    "    \"\"\"\n",
    "    Altera a imagem para adicionar um traço inferior aos pontos vermelhos\n",
    "    \"\"\"\n",
    "    \n",
    "    img = cv2.imread(image)\n",
    "        \n",
    "    for col in xrange(0, 664):\n",
    "        for value in xrange(0, 664):\n",
    "            if img[value][col][0] == 0 and img[value][col][1] == 0 and img[value][col][2] == 255:\n",
    "                for value in xrange(0, 664):\n",
    "                    if img[663-value][col][0] == 0 and img[663-value][col][1] == 0 and img[643-value][col][2] == 255:\n",
    "                        break\n",
    "                    else:\n",
    "                        img[663-value][col] = [255, 0, 0]\n",
    "                break\n",
    "                \n",
    "    plt.imshow(img)\n",
    "    plt.title('Strider')\n",
    "    plt.show()\n",
    "\n",
    "                \n",
    "red_pixels_distance_lower_column(image_strider)"
   ]
  },
  {
   "cell_type": "code",
   "execution_count": null,
   "metadata": {},
   "outputs": [],
   "source": [
    "def red_pixels_distance_lower_column(image):\n",
    "    \"\"\"\n",
    "    Altera a imagem para preencher as colunas com pontos vermelhos com um traço vermelho\n",
    "    \"\"\"\n",
    "    \n",
    "    img = cv2.imread(image)\n",
    "        \n",
    "    for col in xrange(0, 664):\n",
    "        for value in xrange(0, 664):\n",
    "            if img[value][col][0] == 0 and img[value][col][1] == 0 and img[value][col][2] == 255:\n",
    "                for value in xrange(0, 664):\n",
    "                    img[663-value][col] = [255, 0, 0]\n",
    "\n",
    "    plt.imshow(img)\n",
    "    plt.title('Strider')\n",
    "    plt.show()\n",
    "    \n",
    "    return img\n",
    "\n",
    "bar_code = red_pixels_distance_lower_column(image_strider)"
   ]
  },
  {
   "cell_type": "markdown",
   "metadata": {},
   "source": [
    "## Solução\n",
    "\n",
    "Após modificar a imagem de forma a substituir as colunas onde existiam pixels vermelhos por colunas totalmente vermelhas foi identificado um código de barras binario. Dessa forma basta ler o código onde os pixels vermelhos representam 1 e os outros 0, esse resultado é passado de binario para texto revelando a mensagem escondida."
   ]
  },
  {
   "cell_type": "code",
   "execution_count": null,
   "metadata": {},
   "outputs": [],
   "source": [
    "def decode_binary_bar_code(bar_code):\n",
    "    \"\"\"\n",
    "    Decodifica o código de barras binario na imagem\n",
    "    \"\"\"\n",
    "\n",
    "    s = \"\"\n",
    "    for col in xrange(0, 664):\n",
    "            if bar_code[0][col][0] == 255 and bar_code[0][col][1] == 0 and bar_code[0][col][2] == 0:\n",
    "                s += \"1\"\n",
    "            else:\n",
    "                s += \"0\"\n",
    "    j = 0\n",
    "    for i in xrange(1, len(s)/8):\n",
    "        print(chr(int(s[8*j:8*i], 2)), end=\"\")\n",
    "        j = i\n",
    "        \n",
    "decode_binary_bar_code(bar_code)"
   ]
  },
  {
   "cell_type": "code",
   "execution_count": null,
   "metadata": {},
   "outputs": [],
   "source": []
  }
 ],
 "metadata": {
  "celltoolbar": "Raw Cell Format",
  "kernel_info": {
   "name": "python3"
  },
  "kernelspec": {
   "display_name": "Python 3",
   "language": "python",
   "name": "python3"
  },
  "language_info": {
   "codemirror_mode": {
    "name": "ipython",
    "version": 2
   },
   "file_extension": ".py",
   "mimetype": "text/x-python",
   "name": "python",
   "nbconvert_exporter": "python",
   "pygments_lexer": "ipython2",
   "version": "2.7.14"
  },
  "nteract": {
   "version": "0.7.1"
  }
 },
 "nbformat": 4,
 "nbformat_minor": 2
}
